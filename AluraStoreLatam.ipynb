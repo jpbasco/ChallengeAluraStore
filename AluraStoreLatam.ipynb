{
  "nbformat": 4,
  "nbformat_minor": 0,
  "metadata": {
    "colab": {
      "provenance": [],
      "include_colab_link": true
    },
    "kernelspec": {
      "name": "python3",
      "display_name": "Python 3"
    },
    "language_info": {
      "name": "python"
    }
  },
  "cells": [
    {
      "cell_type": "markdown",
      "metadata": {
        "id": "view-in-github",
        "colab_type": "text"
      },
      "source": [
        "<a href=\"https://colab.research.google.com/github/jpbasco/ChallengeAluraStore/blob/main/AluraStoreLatam.ipynb\" target=\"_parent\"><img src=\"https://colab.research.google.com/assets/colab-badge.svg\" alt=\"Open In Colab\"/></a>"
      ]
    },
    {
      "cell_type": "markdown",
      "source": [
        "### Importación de datos\n",
        "\n"
      ],
      "metadata": {
        "id": "RhEdWd9YUR6H"
      }
    },
    {
      "cell_type": "code",
      "execution_count": null,
      "metadata": {
        "colab": {
          "base_uri": "https://localhost:8080/",
          "height": 310
        },
        "id": "T3EvaeQ_INIL",
        "outputId": "fae389ce-3678-483f-e288-d554cc5f23c9"
      },
      "outputs": [
        {
          "output_type": "execute_result",
          "data": {
            "text/plain": [
              "            Producto Categoría del Producto    Precio  Costo de envío  \\\n",
              "0  Asistente virtual           Electrónicos  164300.0          6900.0   \n",
              "1    Mesa de comedor                Muebles  192300.0          8400.0   \n",
              "2      Juego de mesa               Juguetes  209600.0         15900.0   \n",
              "3         Microondas      Electrodomésticos  757500.0         41000.0   \n",
              "4   Silla de oficina                Muebles  335200.0         20200.0   \n",
              "\n",
              "  Fecha de Compra         Vendedor Lugar de Compra  Calificación  \\\n",
              "0      16/01/2021      Pedro Gomez          Bogotá             4   \n",
              "1      18/05/2022  Beatriz Morales        Medellín             1   \n",
              "2      15/03/2021   Juan Fernandez       Cartagena             1   \n",
              "3      03/05/2022   Juan Fernandez            Cali             4   \n",
              "4      07/11/2020    Maria Alfonso        Medellín             5   \n",
              "\n",
              "       Método de pago  Cantidad de cuotas       lat       lon  \n",
              "0  Tarjeta de crédito                   8   4.60971 -74.08175  \n",
              "1  Tarjeta de crédito                   4   6.25184 -75.56359  \n",
              "2  Tarjeta de crédito                   1  10.39972 -75.51444  \n",
              "3               Nequi                   1   3.43722 -76.52250  \n",
              "4               Nequi                   1   6.25184 -75.56359  "
            ],
            "text/html": [
              "\n",
              "  <div id=\"df-49a3489f-7dd8-4748-86d4-b6d796b4004b\" class=\"colab-df-container\">\n",
              "    <div>\n",
              "<style scoped>\n",
              "    .dataframe tbody tr th:only-of-type {\n",
              "        vertical-align: middle;\n",
              "    }\n",
              "\n",
              "    .dataframe tbody tr th {\n",
              "        vertical-align: top;\n",
              "    }\n",
              "\n",
              "    .dataframe thead th {\n",
              "        text-align: right;\n",
              "    }\n",
              "</style>\n",
              "<table border=\"1\" class=\"dataframe\">\n",
              "  <thead>\n",
              "    <tr style=\"text-align: right;\">\n",
              "      <th></th>\n",
              "      <th>Producto</th>\n",
              "      <th>Categoría del Producto</th>\n",
              "      <th>Precio</th>\n",
              "      <th>Costo de envío</th>\n",
              "      <th>Fecha de Compra</th>\n",
              "      <th>Vendedor</th>\n",
              "      <th>Lugar de Compra</th>\n",
              "      <th>Calificación</th>\n",
              "      <th>Método de pago</th>\n",
              "      <th>Cantidad de cuotas</th>\n",
              "      <th>lat</th>\n",
              "      <th>lon</th>\n",
              "    </tr>\n",
              "  </thead>\n",
              "  <tbody>\n",
              "    <tr>\n",
              "      <th>0</th>\n",
              "      <td>Asistente virtual</td>\n",
              "      <td>Electrónicos</td>\n",
              "      <td>164300.0</td>\n",
              "      <td>6900.0</td>\n",
              "      <td>16/01/2021</td>\n",
              "      <td>Pedro Gomez</td>\n",
              "      <td>Bogotá</td>\n",
              "      <td>4</td>\n",
              "      <td>Tarjeta de crédito</td>\n",
              "      <td>8</td>\n",
              "      <td>4.60971</td>\n",
              "      <td>-74.08175</td>\n",
              "    </tr>\n",
              "    <tr>\n",
              "      <th>1</th>\n",
              "      <td>Mesa de comedor</td>\n",
              "      <td>Muebles</td>\n",
              "      <td>192300.0</td>\n",
              "      <td>8400.0</td>\n",
              "      <td>18/05/2022</td>\n",
              "      <td>Beatriz Morales</td>\n",
              "      <td>Medellín</td>\n",
              "      <td>1</td>\n",
              "      <td>Tarjeta de crédito</td>\n",
              "      <td>4</td>\n",
              "      <td>6.25184</td>\n",
              "      <td>-75.56359</td>\n",
              "    </tr>\n",
              "    <tr>\n",
              "      <th>2</th>\n",
              "      <td>Juego de mesa</td>\n",
              "      <td>Juguetes</td>\n",
              "      <td>209600.0</td>\n",
              "      <td>15900.0</td>\n",
              "      <td>15/03/2021</td>\n",
              "      <td>Juan Fernandez</td>\n",
              "      <td>Cartagena</td>\n",
              "      <td>1</td>\n",
              "      <td>Tarjeta de crédito</td>\n",
              "      <td>1</td>\n",
              "      <td>10.39972</td>\n",
              "      <td>-75.51444</td>\n",
              "    </tr>\n",
              "    <tr>\n",
              "      <th>3</th>\n",
              "      <td>Microondas</td>\n",
              "      <td>Electrodomésticos</td>\n",
              "      <td>757500.0</td>\n",
              "      <td>41000.0</td>\n",
              "      <td>03/05/2022</td>\n",
              "      <td>Juan Fernandez</td>\n",
              "      <td>Cali</td>\n",
              "      <td>4</td>\n",
              "      <td>Nequi</td>\n",
              "      <td>1</td>\n",
              "      <td>3.43722</td>\n",
              "      <td>-76.52250</td>\n",
              "    </tr>\n",
              "    <tr>\n",
              "      <th>4</th>\n",
              "      <td>Silla de oficina</td>\n",
              "      <td>Muebles</td>\n",
              "      <td>335200.0</td>\n",
              "      <td>20200.0</td>\n",
              "      <td>07/11/2020</td>\n",
              "      <td>Maria Alfonso</td>\n",
              "      <td>Medellín</td>\n",
              "      <td>5</td>\n",
              "      <td>Nequi</td>\n",
              "      <td>1</td>\n",
              "      <td>6.25184</td>\n",
              "      <td>-75.56359</td>\n",
              "    </tr>\n",
              "  </tbody>\n",
              "</table>\n",
              "</div>\n",
              "    <div class=\"colab-df-buttons\">\n",
              "\n",
              "  <div class=\"colab-df-container\">\n",
              "    <button class=\"colab-df-convert\" onclick=\"convertToInteractive('df-49a3489f-7dd8-4748-86d4-b6d796b4004b')\"\n",
              "            title=\"Convert this dataframe to an interactive table.\"\n",
              "            style=\"display:none;\">\n",
              "\n",
              "  <svg xmlns=\"http://www.w3.org/2000/svg\" height=\"24px\" viewBox=\"0 -960 960 960\">\n",
              "    <path d=\"M120-120v-720h720v720H120Zm60-500h600v-160H180v160Zm220 220h160v-160H400v160Zm0 220h160v-160H400v160ZM180-400h160v-160H180v160Zm440 0h160v-160H620v160ZM180-180h160v-160H180v160Zm440 0h160v-160H620v160Z\"/>\n",
              "  </svg>\n",
              "    </button>\n",
              "\n",
              "  <style>\n",
              "    .colab-df-container {\n",
              "      display:flex;\n",
              "      gap: 12px;\n",
              "    }\n",
              "\n",
              "    .colab-df-convert {\n",
              "      background-color: #E8F0FE;\n",
              "      border: none;\n",
              "      border-radius: 50%;\n",
              "      cursor: pointer;\n",
              "      display: none;\n",
              "      fill: #1967D2;\n",
              "      height: 32px;\n",
              "      padding: 0 0 0 0;\n",
              "      width: 32px;\n",
              "    }\n",
              "\n",
              "    .colab-df-convert:hover {\n",
              "      background-color: #E2EBFA;\n",
              "      box-shadow: 0px 1px 2px rgba(60, 64, 67, 0.3), 0px 1px 3px 1px rgba(60, 64, 67, 0.15);\n",
              "      fill: #174EA6;\n",
              "    }\n",
              "\n",
              "    .colab-df-buttons div {\n",
              "      margin-bottom: 4px;\n",
              "    }\n",
              "\n",
              "    [theme=dark] .colab-df-convert {\n",
              "      background-color: #3B4455;\n",
              "      fill: #D2E3FC;\n",
              "    }\n",
              "\n",
              "    [theme=dark] .colab-df-convert:hover {\n",
              "      background-color: #434B5C;\n",
              "      box-shadow: 0px 1px 3px 1px rgba(0, 0, 0, 0.15);\n",
              "      filter: drop-shadow(0px 1px 2px rgba(0, 0, 0, 0.3));\n",
              "      fill: #FFFFFF;\n",
              "    }\n",
              "  </style>\n",
              "\n",
              "    <script>\n",
              "      const buttonEl =\n",
              "        document.querySelector('#df-49a3489f-7dd8-4748-86d4-b6d796b4004b button.colab-df-convert');\n",
              "      buttonEl.style.display =\n",
              "        google.colab.kernel.accessAllowed ? 'block' : 'none';\n",
              "\n",
              "      async function convertToInteractive(key) {\n",
              "        const element = document.querySelector('#df-49a3489f-7dd8-4748-86d4-b6d796b4004b');\n",
              "        const dataTable =\n",
              "          await google.colab.kernel.invokeFunction('convertToInteractive',\n",
              "                                                    [key], {});\n",
              "        if (!dataTable) return;\n",
              "\n",
              "        const docLinkHtml = 'Like what you see? Visit the ' +\n",
              "          '<a target=\"_blank\" href=https://colab.research.google.com/notebooks/data_table.ipynb>data table notebook</a>'\n",
              "          + ' to learn more about interactive tables.';\n",
              "        element.innerHTML = '';\n",
              "        dataTable['output_type'] = 'display_data';\n",
              "        await google.colab.output.renderOutput(dataTable, element);\n",
              "        const docLink = document.createElement('div');\n",
              "        docLink.innerHTML = docLinkHtml;\n",
              "        element.appendChild(docLink);\n",
              "      }\n",
              "    </script>\n",
              "  </div>\n",
              "\n",
              "\n",
              "    <div id=\"df-28331f12-aa76-4f65-baa5-4ede29fa4fe8\">\n",
              "      <button class=\"colab-df-quickchart\" onclick=\"quickchart('df-28331f12-aa76-4f65-baa5-4ede29fa4fe8')\"\n",
              "                title=\"Suggest charts\"\n",
              "                style=\"display:none;\">\n",
              "\n",
              "<svg xmlns=\"http://www.w3.org/2000/svg\" height=\"24px\"viewBox=\"0 0 24 24\"\n",
              "     width=\"24px\">\n",
              "    <g>\n",
              "        <path d=\"M19 3H5c-1.1 0-2 .9-2 2v14c0 1.1.9 2 2 2h14c1.1 0 2-.9 2-2V5c0-1.1-.9-2-2-2zM9 17H7v-7h2v7zm4 0h-2V7h2v10zm4 0h-2v-4h2v4z\"/>\n",
              "    </g>\n",
              "</svg>\n",
              "      </button>\n",
              "\n",
              "<style>\n",
              "  .colab-df-quickchart {\n",
              "      --bg-color: #E8F0FE;\n",
              "      --fill-color: #1967D2;\n",
              "      --hover-bg-color: #E2EBFA;\n",
              "      --hover-fill-color: #174EA6;\n",
              "      --disabled-fill-color: #AAA;\n",
              "      --disabled-bg-color: #DDD;\n",
              "  }\n",
              "\n",
              "  [theme=dark] .colab-df-quickchart {\n",
              "      --bg-color: #3B4455;\n",
              "      --fill-color: #D2E3FC;\n",
              "      --hover-bg-color: #434B5C;\n",
              "      --hover-fill-color: #FFFFFF;\n",
              "      --disabled-bg-color: #3B4455;\n",
              "      --disabled-fill-color: #666;\n",
              "  }\n",
              "\n",
              "  .colab-df-quickchart {\n",
              "    background-color: var(--bg-color);\n",
              "    border: none;\n",
              "    border-radius: 50%;\n",
              "    cursor: pointer;\n",
              "    display: none;\n",
              "    fill: var(--fill-color);\n",
              "    height: 32px;\n",
              "    padding: 0;\n",
              "    width: 32px;\n",
              "  }\n",
              "\n",
              "  .colab-df-quickchart:hover {\n",
              "    background-color: var(--hover-bg-color);\n",
              "    box-shadow: 0 1px 2px rgba(60, 64, 67, 0.3), 0 1px 3px 1px rgba(60, 64, 67, 0.15);\n",
              "    fill: var(--button-hover-fill-color);\n",
              "  }\n",
              "\n",
              "  .colab-df-quickchart-complete:disabled,\n",
              "  .colab-df-quickchart-complete:disabled:hover {\n",
              "    background-color: var(--disabled-bg-color);\n",
              "    fill: var(--disabled-fill-color);\n",
              "    box-shadow: none;\n",
              "  }\n",
              "\n",
              "  .colab-df-spinner {\n",
              "    border: 2px solid var(--fill-color);\n",
              "    border-color: transparent;\n",
              "    border-bottom-color: var(--fill-color);\n",
              "    animation:\n",
              "      spin 1s steps(1) infinite;\n",
              "  }\n",
              "\n",
              "  @keyframes spin {\n",
              "    0% {\n",
              "      border-color: transparent;\n",
              "      border-bottom-color: var(--fill-color);\n",
              "      border-left-color: var(--fill-color);\n",
              "    }\n",
              "    20% {\n",
              "      border-color: transparent;\n",
              "      border-left-color: var(--fill-color);\n",
              "      border-top-color: var(--fill-color);\n",
              "    }\n",
              "    30% {\n",
              "      border-color: transparent;\n",
              "      border-left-color: var(--fill-color);\n",
              "      border-top-color: var(--fill-color);\n",
              "      border-right-color: var(--fill-color);\n",
              "    }\n",
              "    40% {\n",
              "      border-color: transparent;\n",
              "      border-right-color: var(--fill-color);\n",
              "      border-top-color: var(--fill-color);\n",
              "    }\n",
              "    60% {\n",
              "      border-color: transparent;\n",
              "      border-right-color: var(--fill-color);\n",
              "    }\n",
              "    80% {\n",
              "      border-color: transparent;\n",
              "      border-right-color: var(--fill-color);\n",
              "      border-bottom-color: var(--fill-color);\n",
              "    }\n",
              "    90% {\n",
              "      border-color: transparent;\n",
              "      border-bottom-color: var(--fill-color);\n",
              "    }\n",
              "  }\n",
              "</style>\n",
              "\n",
              "      <script>\n",
              "        async function quickchart(key) {\n",
              "          const quickchartButtonEl =\n",
              "            document.querySelector('#' + key + ' button');\n",
              "          quickchartButtonEl.disabled = true;  // To prevent multiple clicks.\n",
              "          quickchartButtonEl.classList.add('colab-df-spinner');\n",
              "          try {\n",
              "            const charts = await google.colab.kernel.invokeFunction(\n",
              "                'suggestCharts', [key], {});\n",
              "          } catch (error) {\n",
              "            console.error('Error during call to suggestCharts:', error);\n",
              "          }\n",
              "          quickchartButtonEl.classList.remove('colab-df-spinner');\n",
              "          quickchartButtonEl.classList.add('colab-df-quickchart-complete');\n",
              "        }\n",
              "        (() => {\n",
              "          let quickchartButtonEl =\n",
              "            document.querySelector('#df-28331f12-aa76-4f65-baa5-4ede29fa4fe8 button');\n",
              "          quickchartButtonEl.style.display =\n",
              "            google.colab.kernel.accessAllowed ? 'block' : 'none';\n",
              "        })();\n",
              "      </script>\n",
              "    </div>\n",
              "\n",
              "    </div>\n",
              "  </div>\n"
            ],
            "application/vnd.google.colaboratory.intrinsic+json": {
              "type": "dataframe",
              "variable_name": "tienda",
              "summary": "{\n  \"name\": \"tienda\",\n  \"rows\": 2359,\n  \"fields\": [\n    {\n      \"column\": \"Producto\",\n      \"properties\": {\n        \"dtype\": \"category\",\n        \"num_unique_values\": 51,\n        \"samples\": [\n          \"Guitarra ac\\u00fastica\",\n          \"Bal\\u00f3n de baloncesto\",\n          \"Smartwatch\"\n        ],\n        \"semantic_type\": \"\",\n        \"description\": \"\"\n      }\n    },\n    {\n      \"column\": \"Categor\\u00eda del Producto\",\n      \"properties\": {\n        \"dtype\": \"category\",\n        \"num_unique_values\": 8,\n        \"samples\": [\n          \"Muebles\",\n          \"Deportes y diversi\\u00f3n\",\n          \"Electr\\u00f3nicos\"\n        ],\n        \"semantic_type\": \"\",\n        \"description\": \"\"\n      }\n    },\n    {\n      \"column\": \"Precio\",\n      \"properties\": {\n        \"dtype\": \"number\",\n        \"std\": 614686.7653873172,\n        \"min\": 7600.0,\n        \"max\": 2977000.0,\n        \"num_unique_values\": 1937,\n        \"samples\": [\n          2499400.0,\n          14800.0,\n          80500.0\n        ],\n        \"semantic_type\": \"\",\n        \"description\": \"\"\n      }\n    },\n    {\n      \"column\": \"Costo de env\\u00edo\",\n      \"properties\": {\n        \"dtype\": \"number\",\n        \"std\": 32860.0017825605,\n        \"min\": 0.0,\n        \"max\": 160800.0,\n        \"num_unique_values\": 753,\n        \"samples\": [\n          117800.0,\n          54700.0,\n          45600.0\n        ],\n        \"semantic_type\": \"\",\n        \"description\": \"\"\n      }\n    },\n    {\n      \"column\": \"Fecha de Compra\",\n      \"properties\": {\n        \"dtype\": \"object\",\n        \"num_unique_values\": 1018,\n        \"samples\": [\n          \"15/09/2022\",\n          \"03/06/2020\",\n          \"06/11/2021\"\n        ],\n        \"semantic_type\": \"\",\n        \"description\": \"\"\n      }\n    },\n    {\n      \"column\": \"Vendedor\",\n      \"properties\": {\n        \"dtype\": \"category\",\n        \"num_unique_values\": 14,\n        \"samples\": [\n          \"Juliana Costa\",\n          \"Mariana Herrera\",\n          \"Pedro Gomez\"\n        ],\n        \"semantic_type\": \"\",\n        \"description\": \"\"\n      }\n    },\n    {\n      \"column\": \"Lugar de Compra\",\n      \"properties\": {\n        \"dtype\": \"category\",\n        \"num_unique_values\": 19,\n        \"samples\": [\n          \"Bogot\\u00e1\",\n          \"Pereira\",\n          \"Neiva\"\n        ],\n        \"semantic_type\": \"\",\n        \"description\": \"\"\n      }\n    },\n    {\n      \"column\": \"Calificaci\\u00f3n\",\n      \"properties\": {\n        \"dtype\": \"number\",\n        \"std\": 1,\n        \"min\": 1,\n        \"max\": 5,\n        \"num_unique_values\": 5,\n        \"samples\": [\n          1,\n          2,\n          5\n        ],\n        \"semantic_type\": \"\",\n        \"description\": \"\"\n      }\n    },\n    {\n      \"column\": \"M\\u00e9todo de pago\",\n      \"properties\": {\n        \"dtype\": \"category\",\n        \"num_unique_values\": 4,\n        \"samples\": [\n          \"Nequi\",\n          \"Tarjeta de d\\u00e9bito\",\n          \"Tarjeta de cr\\u00e9dito\"\n        ],\n        \"semantic_type\": \"\",\n        \"description\": \"\"\n      }\n    },\n    {\n      \"column\": \"Cantidad de cuotas\",\n      \"properties\": {\n        \"dtype\": \"number\",\n        \"std\": 2,\n        \"min\": 1,\n        \"max\": 24,\n        \"num_unique_values\": 15,\n        \"samples\": [\n          7,\n          14,\n          8\n        ],\n        \"semantic_type\": \"\",\n        \"description\": \"\"\n      }\n    },\n    {\n      \"column\": \"lat\",\n      \"properties\": {\n        \"dtype\": \"number\",\n        \"std\": 2.2874452492678627,\n        \"min\": -4.21528,\n        \"max\": 11.54444,\n        \"num_unique_values\": 19,\n        \"samples\": [\n          4.60971,\n          4.81333,\n          2.9273\n        ],\n        \"semantic_type\": \"\",\n        \"description\": \"\"\n      }\n    },\n    {\n      \"column\": \"lon\",\n      \"properties\": {\n        \"dtype\": \"number\",\n        \"std\": 1.2178272727088486,\n        \"min\": -77.28111,\n        \"max\": -67.9239,\n        \"num_unique_values\": 19,\n        \"samples\": [\n          -74.08175,\n          -75.69611,\n          -75.28189\n        ],\n        \"semantic_type\": \"\",\n        \"description\": \"\"\n      }\n    }\n  ]\n}"
            }
          },
          "metadata": {},
          "execution_count": 1
        }
      ],
      "source": [
        "import pandas as pd\n",
        "\n",
        "url = \"https://raw.githubusercontent.com/alura-es-cursos/challenge1-data-science-latam/refs/heads/main/base-de-datos-challenge1-latam/tienda_1%20.csv\"\n",
        "url2 = \"https://raw.githubusercontent.com/alura-es-cursos/challenge1-data-science-latam/refs/heads/main/base-de-datos-challenge1-latam/tienda_2.csv\"\n",
        "url3 = \"https://raw.githubusercontent.com/alura-es-cursos/challenge1-data-science-latam/refs/heads/main/base-de-datos-challenge1-latam/tienda_3.csv\"\n",
        "url4 = \"https://raw.githubusercontent.com/alura-es-cursos/challenge1-data-science-latam/refs/heads/main/base-de-datos-challenge1-latam/tienda_4.csv\"\n",
        "\n",
        "tienda = pd.read_csv(url)\n",
        "tienda2 = pd.read_csv(url2)\n",
        "tienda3 = pd.read_csv(url3)\n",
        "tienda4 = pd.read_csv(url4)\n",
        "\n",
        "tienda.head()"
      ]
    },
    {
      "cell_type": "markdown",
      "source": [
        "#1. Análisis de facturación\n",
        "\n"
      ],
      "metadata": {
        "id": "X62IW3KFUIYm"
      }
    },
    {
      "cell_type": "code",
      "source": [
        "precios_tienda = tienda['Precio'].tolist()\n",
        "precios_tienda2 = tienda2['Precio'].tolist()\n",
        "precios_tienda3 = tienda3['Precio'].tolist()\n",
        "precios_tienda4 = tienda4['Precio'].tolist()\n",
        "\n",
        "suma_precios_tienda1 = sum(precios_tienda)\n",
        "suma_precios_tienda2 = sum(precios_tienda2)\n",
        "suma_precios_tienda3 = sum(precios_tienda3)\n",
        "suma_precios_tienda4 = sum(precios_tienda4)\n"
      ],
      "metadata": {
        "id": "xykobSftV64I"
      },
      "execution_count": null,
      "outputs": []
    },
    {
      "cell_type": "code",
      "source": [
        "print(f'Suma total de ingresos:\\t\\nTienda 1: $ {suma_precios_tienda1}\\t\\nTienda 2: $ {suma_precios_tienda2}\\t\\nTienda 3: $ {suma_precios_tienda3}\\t\\nTienda 4: $ {suma_precios_tienda4}')"
      ],
      "metadata": {
        "id": "KDyr8E71V3m-",
        "colab": {
          "base_uri": "https://localhost:8080/"
        },
        "outputId": "1405f571-ee6d-4444-b599-c786cd8908e0"
      },
      "execution_count": null,
      "outputs": [
        {
          "output_type": "stream",
          "name": "stdout",
          "text": [
            "Suma total de ingresos:\t\n",
            "Tienda 1: $ 1150880400.0\t\n",
            "Tienda 2: $ 1116343500.0\t\n",
            "Tienda 3: $ 1098019600.0\t\n",
            "Tienda 4: $ 1038375700.0\n"
          ]
        }
      ]
    },
    {
      "cell_type": "markdown",
      "source": [
        "# 2. Ventas por categoría"
      ],
      "metadata": {
        "id": "2V_vcAPzWZmR"
      }
    },
    {
      "cell_type": "code",
      "source": [
        "categorias_tienda1 = tienda.groupby('Categoría del Producto')['Producto'].apply(list)\n",
        "#print(categorias_tienda1)\n",
        "categorias_tienda2 = tienda2.groupby('Categoría del Producto')['Producto'].apply(list)\n",
        "categorias_tienda3 = tienda3.groupby('Categoría del Producto')['Producto'].apply(list)\n",
        "categorias_tienda4 = tienda4.groupby('Categoría del Producto')['Producto'].apply(list)\n"
      ],
      "metadata": {
        "id": "olf9T8hATze-"
      },
      "execution_count": null,
      "outputs": []
    },
    {
      "cell_type": "code",
      "source": [
        "categorias_tienda1.str.len()\n"
      ],
      "metadata": {
        "colab": {
          "base_uri": "https://localhost:8080/",
          "height": 366
        },
        "id": "ImTcv_XrVyxF",
        "outputId": "d99b462d-af69-4565-99f4-bb8627ba665c"
      },
      "execution_count": null,
      "outputs": [
        {
          "output_type": "execute_result",
          "data": {
            "text/plain": [
              "Categoría del Producto\n",
              "Artículos para el hogar    171\n",
              "Deportes y diversión       284\n",
              "Electrodomésticos          312\n",
              "Electrónicos               448\n",
              "Instrumentos musicales     182\n",
              "Juguetes                   324\n",
              "Libros                     173\n",
              "Muebles                    465\n",
              "Name: Producto, dtype: int64"
            ],
            "text/html": [
              "<div>\n",
              "<style scoped>\n",
              "    .dataframe tbody tr th:only-of-type {\n",
              "        vertical-align: middle;\n",
              "    }\n",
              "\n",
              "    .dataframe tbody tr th {\n",
              "        vertical-align: top;\n",
              "    }\n",
              "\n",
              "    .dataframe thead th {\n",
              "        text-align: right;\n",
              "    }\n",
              "</style>\n",
              "<table border=\"1\" class=\"dataframe\">\n",
              "  <thead>\n",
              "    <tr style=\"text-align: right;\">\n",
              "      <th></th>\n",
              "      <th>Producto</th>\n",
              "    </tr>\n",
              "    <tr>\n",
              "      <th>Categoría del Producto</th>\n",
              "      <th></th>\n",
              "    </tr>\n",
              "  </thead>\n",
              "  <tbody>\n",
              "    <tr>\n",
              "      <th>Artículos para el hogar</th>\n",
              "      <td>171</td>\n",
              "    </tr>\n",
              "    <tr>\n",
              "      <th>Deportes y diversión</th>\n",
              "      <td>284</td>\n",
              "    </tr>\n",
              "    <tr>\n",
              "      <th>Electrodomésticos</th>\n",
              "      <td>312</td>\n",
              "    </tr>\n",
              "    <tr>\n",
              "      <th>Electrónicos</th>\n",
              "      <td>448</td>\n",
              "    </tr>\n",
              "    <tr>\n",
              "      <th>Instrumentos musicales</th>\n",
              "      <td>182</td>\n",
              "    </tr>\n",
              "    <tr>\n",
              "      <th>Juguetes</th>\n",
              "      <td>324</td>\n",
              "    </tr>\n",
              "    <tr>\n",
              "      <th>Libros</th>\n",
              "      <td>173</td>\n",
              "    </tr>\n",
              "    <tr>\n",
              "      <th>Muebles</th>\n",
              "      <td>465</td>\n",
              "    </tr>\n",
              "  </tbody>\n",
              "</table>\n",
              "</div><br><label><b>dtype:</b> int64</label>"
            ]
          },
          "metadata": {},
          "execution_count": 84
        }
      ]
    },
    {
      "cell_type": "code",
      "source": [
        "categorias_tienda2.str.len()"
      ],
      "metadata": {
        "colab": {
          "base_uri": "https://localhost:8080/",
          "height": 366
        },
        "id": "xapIIRc0WUwk",
        "outputId": "3d977bad-a312-49a1-ac85-e0060a0ccddd"
      },
      "execution_count": null,
      "outputs": [
        {
          "output_type": "execute_result",
          "data": {
            "text/plain": [
              "Categoría del Producto\n",
              "Artículos para el hogar    181\n",
              "Deportes y diversión       275\n",
              "Electrodomésticos          305\n",
              "Electrónicos               422\n",
              "Instrumentos musicales     224\n",
              "Juguetes                   313\n",
              "Libros                     197\n",
              "Muebles                    442\n",
              "Name: Producto, dtype: int64"
            ],
            "text/html": [
              "<div>\n",
              "<style scoped>\n",
              "    .dataframe tbody tr th:only-of-type {\n",
              "        vertical-align: middle;\n",
              "    }\n",
              "\n",
              "    .dataframe tbody tr th {\n",
              "        vertical-align: top;\n",
              "    }\n",
              "\n",
              "    .dataframe thead th {\n",
              "        text-align: right;\n",
              "    }\n",
              "</style>\n",
              "<table border=\"1\" class=\"dataframe\">\n",
              "  <thead>\n",
              "    <tr style=\"text-align: right;\">\n",
              "      <th></th>\n",
              "      <th>Producto</th>\n",
              "    </tr>\n",
              "    <tr>\n",
              "      <th>Categoría del Producto</th>\n",
              "      <th></th>\n",
              "    </tr>\n",
              "  </thead>\n",
              "  <tbody>\n",
              "    <tr>\n",
              "      <th>Artículos para el hogar</th>\n",
              "      <td>181</td>\n",
              "    </tr>\n",
              "    <tr>\n",
              "      <th>Deportes y diversión</th>\n",
              "      <td>275</td>\n",
              "    </tr>\n",
              "    <tr>\n",
              "      <th>Electrodomésticos</th>\n",
              "      <td>305</td>\n",
              "    </tr>\n",
              "    <tr>\n",
              "      <th>Electrónicos</th>\n",
              "      <td>422</td>\n",
              "    </tr>\n",
              "    <tr>\n",
              "      <th>Instrumentos musicales</th>\n",
              "      <td>224</td>\n",
              "    </tr>\n",
              "    <tr>\n",
              "      <th>Juguetes</th>\n",
              "      <td>313</td>\n",
              "    </tr>\n",
              "    <tr>\n",
              "      <th>Libros</th>\n",
              "      <td>197</td>\n",
              "    </tr>\n",
              "    <tr>\n",
              "      <th>Muebles</th>\n",
              "      <td>442</td>\n",
              "    </tr>\n",
              "  </tbody>\n",
              "</table>\n",
              "</div><br><label><b>dtype:</b> int64</label>"
            ]
          },
          "metadata": {},
          "execution_count": 85
        }
      ]
    },
    {
      "cell_type": "code",
      "source": [
        "categorias_tienda3.str.len()"
      ],
      "metadata": {
        "colab": {
          "base_uri": "https://localhost:8080/",
          "height": 366
        },
        "id": "ONErtj7oW5KV",
        "outputId": "e74613b4-65df-4cc1-a977-5bd1958ebee5"
      },
      "execution_count": null,
      "outputs": [
        {
          "output_type": "execute_result",
          "data": {
            "text/plain": [
              "Categoría del Producto\n",
              "Artículos para el hogar    177\n",
              "Deportes y diversión       277\n",
              "Electrodomésticos          278\n",
              "Electrónicos               451\n",
              "Instrumentos musicales     177\n",
              "Juguetes                   315\n",
              "Libros                     185\n",
              "Muebles                    499\n",
              "Name: Producto, dtype: int64"
            ],
            "text/html": [
              "<div>\n",
              "<style scoped>\n",
              "    .dataframe tbody tr th:only-of-type {\n",
              "        vertical-align: middle;\n",
              "    }\n",
              "\n",
              "    .dataframe tbody tr th {\n",
              "        vertical-align: top;\n",
              "    }\n",
              "\n",
              "    .dataframe thead th {\n",
              "        text-align: right;\n",
              "    }\n",
              "</style>\n",
              "<table border=\"1\" class=\"dataframe\">\n",
              "  <thead>\n",
              "    <tr style=\"text-align: right;\">\n",
              "      <th></th>\n",
              "      <th>Producto</th>\n",
              "    </tr>\n",
              "    <tr>\n",
              "      <th>Categoría del Producto</th>\n",
              "      <th></th>\n",
              "    </tr>\n",
              "  </thead>\n",
              "  <tbody>\n",
              "    <tr>\n",
              "      <th>Artículos para el hogar</th>\n",
              "      <td>177</td>\n",
              "    </tr>\n",
              "    <tr>\n",
              "      <th>Deportes y diversión</th>\n",
              "      <td>277</td>\n",
              "    </tr>\n",
              "    <tr>\n",
              "      <th>Electrodomésticos</th>\n",
              "      <td>278</td>\n",
              "    </tr>\n",
              "    <tr>\n",
              "      <th>Electrónicos</th>\n",
              "      <td>451</td>\n",
              "    </tr>\n",
              "    <tr>\n",
              "      <th>Instrumentos musicales</th>\n",
              "      <td>177</td>\n",
              "    </tr>\n",
              "    <tr>\n",
              "      <th>Juguetes</th>\n",
              "      <td>315</td>\n",
              "    </tr>\n",
              "    <tr>\n",
              "      <th>Libros</th>\n",
              "      <td>185</td>\n",
              "    </tr>\n",
              "    <tr>\n",
              "      <th>Muebles</th>\n",
              "      <td>499</td>\n",
              "    </tr>\n",
              "  </tbody>\n",
              "</table>\n",
              "</div><br><label><b>dtype:</b> int64</label>"
            ]
          },
          "metadata": {},
          "execution_count": 86
        }
      ]
    },
    {
      "cell_type": "code",
      "source": [
        "categorias_tienda4.str.len()"
      ],
      "metadata": {
        "colab": {
          "base_uri": "https://localhost:8080/",
          "height": 366
        },
        "id": "hu0e78A8W7ry",
        "outputId": "ae98c69f-f57c-43e5-af2a-fe870c6b47c0"
      },
      "execution_count": null,
      "outputs": [
        {
          "output_type": "execute_result",
          "data": {
            "text/plain": [
              "Categoría del Producto\n",
              "Artículos para el hogar    201\n",
              "Deportes y diversión       277\n",
              "Electrodomésticos          254\n",
              "Electrónicos               451\n",
              "Instrumentos musicales     170\n",
              "Juguetes                   338\n",
              "Libros                     187\n",
              "Muebles                    480\n",
              "Name: Producto, dtype: int64"
            ],
            "text/html": [
              "<div>\n",
              "<style scoped>\n",
              "    .dataframe tbody tr th:only-of-type {\n",
              "        vertical-align: middle;\n",
              "    }\n",
              "\n",
              "    .dataframe tbody tr th {\n",
              "        vertical-align: top;\n",
              "    }\n",
              "\n",
              "    .dataframe thead th {\n",
              "        text-align: right;\n",
              "    }\n",
              "</style>\n",
              "<table border=\"1\" class=\"dataframe\">\n",
              "  <thead>\n",
              "    <tr style=\"text-align: right;\">\n",
              "      <th></th>\n",
              "      <th>Producto</th>\n",
              "    </tr>\n",
              "    <tr>\n",
              "      <th>Categoría del Producto</th>\n",
              "      <th></th>\n",
              "    </tr>\n",
              "  </thead>\n",
              "  <tbody>\n",
              "    <tr>\n",
              "      <th>Artículos para el hogar</th>\n",
              "      <td>201</td>\n",
              "    </tr>\n",
              "    <tr>\n",
              "      <th>Deportes y diversión</th>\n",
              "      <td>277</td>\n",
              "    </tr>\n",
              "    <tr>\n",
              "      <th>Electrodomésticos</th>\n",
              "      <td>254</td>\n",
              "    </tr>\n",
              "    <tr>\n",
              "      <th>Electrónicos</th>\n",
              "      <td>451</td>\n",
              "    </tr>\n",
              "    <tr>\n",
              "      <th>Instrumentos musicales</th>\n",
              "      <td>170</td>\n",
              "    </tr>\n",
              "    <tr>\n",
              "      <th>Juguetes</th>\n",
              "      <td>338</td>\n",
              "    </tr>\n",
              "    <tr>\n",
              "      <th>Libros</th>\n",
              "      <td>187</td>\n",
              "    </tr>\n",
              "    <tr>\n",
              "      <th>Muebles</th>\n",
              "      <td>480</td>\n",
              "    </tr>\n",
              "  </tbody>\n",
              "</table>\n",
              "</div><br><label><b>dtype:</b> int64</label>"
            ]
          },
          "metadata": {},
          "execution_count": 87
        }
      ]
    },
    {
      "cell_type": "markdown",
      "source": [
        "# 3. Calificación promedio de la tienda\n"
      ],
      "metadata": {
        "id": "Rq6tU_xSY3jk"
      }
    },
    {
      "cell_type": "code",
      "source": [
        "calificaciones_tienda1 = tienda['Calificación'].tolist()\n",
        "#print(calificacion_promedio_tienda1)\n",
        "promedio_calificaciones_tienda1 = round(sum(calificaciones_tienda1) / len(calificaciones_tienda1),2)\n",
        "#print(promedio_calificaciones_tienda1)\n",
        "calificaciones_tienda2 = tienda2['Calificación'].tolist()\n",
        "promedio_calificaciones_tienda2 = round(sum(calificaciones_tienda2) / len(calificaciones_tienda2),2)\n",
        "\n",
        "calificaciones_tienda3 = tienda3['Calificación'].tolist()\n",
        "promedio_calificaciones_tienda3 = round(sum(calificaciones_tienda3) / len(calificaciones_tienda3),2)\n",
        "\n",
        "calificaciones_tienda4 = tienda4['Calificación'].tolist()\n",
        "promedio_calificaciones_tienda4 = round(sum(calificaciones_tienda4) / len(calificaciones_tienda4),2)\n"
      ],
      "metadata": {
        "id": "bh3jjjJwY5MU"
      },
      "execution_count": null,
      "outputs": []
    },
    {
      "cell_type": "code",
      "source": [
        "print(f'\\tPromedio de calificaciones:\\n\\tTienda 1: {promedio_calificaciones_tienda1}\\n\\tTienda 2: {promedio_calificaciones_tienda2}\\n\\tTienda 3: {promedio_calificaciones_tienda3}\\n\\tTienda 4: {promedio_calificaciones_tienda4}.')"
      ],
      "metadata": {
        "id": "I0KkjPoTY88F",
        "colab": {
          "base_uri": "https://localhost:8080/"
        },
        "outputId": "ab5b745a-4c56-4e50-c545-9a45eb4eef83"
      },
      "execution_count": null,
      "outputs": [
        {
          "output_type": "stream",
          "name": "stdout",
          "text": [
            "\tPromedio de calificaciones:\n",
            "\tTienda 1: 3.98\n",
            "\tTienda 2: 4.04\n",
            "\tTienda 3: 4.05\n",
            "\tTienda 4: 4.0.\n"
          ]
        }
      ]
    },
    {
      "cell_type": "markdown",
      "source": [
        "# 4. Productos más y menos vendidos"
      ],
      "metadata": {
        "id": "DmNp1KPBZCm-"
      }
    },
    {
      "cell_type": "code",
      "source": [
        "productos_tienda1 = tienda['Producto']\n",
        "#print(productos_tienda1)\n",
        "ranking_tienda1 = productos_tienda1.value_counts()\n",
        "print(ranking_tienda1)"
      ],
      "metadata": {
        "id": "qoyjqijQZHfF",
        "colab": {
          "base_uri": "https://localhost:8080/"
        },
        "outputId": "781a8ea1-8979-49c7-f606-a0e22383e0f7"
      },
      "execution_count": null,
      "outputs": [
        {
          "output_type": "stream",
          "name": "stdout",
          "text": [
            "Producto\n",
            "Microondas                     60\n",
            "TV LED UHD 4K                  60\n",
            "Armario                        60\n",
            "Secadora de ropa               58\n",
            "Mesa de noche                  56\n",
            "Bloques de construcción        56\n",
            "Balón de baloncesto            55\n",
            "Bicicleta                      54\n",
            "Vaso térmico                   54\n",
            "Refrigerador                   54\n",
            "Impresora                      54\n",
            "Batería                        53\n",
            "Cubertería                     52\n",
            "Carrito de control remoto      52\n",
            "Modelado predictivo            51\n",
            "Auriculares                    50\n",
            "Ajedrez de madera              49\n",
            "Iphone 15                      49\n",
            "Lavavajillas                   48\n",
            "Lavadora de ropa               47\n",
            "Guitarra eléctrica             47\n",
            "Guitarra acústica              46\n",
            "Sofá reclinable                46\n",
            "Silla de oficina               46\n",
            "Estufa                         45\n",
            "Cama box                       44\n",
            "Kit de bancas                  44\n",
            "Smart TV                       44\n",
            "Cama king                      44\n",
            "Cubo mágico 8x8                44\n",
            "Mesa de centro                 44\n",
            "Set de ollas                   43\n",
            "Smartwatch                     43\n",
            "Juego de mesa                  43\n",
            "Balón de voleibol              42\n",
            "Dashboards con Power BI        42\n",
            "Tablet ABXY                    42\n",
            "Sillón                         41\n",
            "Iniciando en programación      41\n",
            "Set de vasos                   41\n",
            "Asistente virtual              40\n",
            "Muñeca bebé                    40\n",
            "Mesa de comedor                40\n",
            "Dinosaurio Rex                 40\n",
            "Cuerda para saltar             40\n",
            "Mochila                        39\n",
            "Ciencia de datos con Python    39\n",
            "Pandereta                      36\n",
            "Olla de presión                35\n",
            "Auriculares con micrófono      33\n",
            "Celular ABXY                   33\n",
            "Name: count, dtype: int64\n"
          ]
        }
      ]
    },
    {
      "cell_type": "code",
      "source": [
        "productos_tienda2 = tienda2['Producto']\n",
        "#print(productos_tienda2)\n",
        "ranking_tienda2 = productos_tienda2.value_counts()\n",
        "print(ranking_tienda2)"
      ],
      "metadata": {
        "id": "0Sw3sd4IZIGW",
        "colab": {
          "base_uri": "https://localhost:8080/"
        },
        "outputId": "d176324c-a429-4340-cedd-694c44318b2e"
      },
      "execution_count": null,
      "outputs": [
        {
          "output_type": "stream",
          "name": "stdout",
          "text": [
            "Producto\n",
            "Iniciando en programación      65\n",
            "Microondas                     62\n",
            "Batería                        61\n",
            "Guitarra acústica              58\n",
            "Pandereta                      58\n",
            "Secadora de ropa               57\n",
            "Iphone 15                      55\n",
            "Bloques de construcción        54\n",
            "Armario                        54\n",
            "Set de ollas                   52\n",
            "Cuerda para saltar             50\n",
            "Lavadora de ropa               49\n",
            "Silla de oficina               49\n",
            "Refrigerador                   49\n",
            "Muñeca bebé                    48\n",
            "Carrito de control remoto      47\n",
            "Guitarra eléctrica             47\n",
            "Cama box                       47\n",
            "Vaso térmico                   47\n",
            "Modelado predictivo            46\n",
            "Balón de voleibol              46\n",
            "Set de vasos                   46\n",
            "Lavavajillas                   46\n",
            "Kit de bancas                  45\n",
            "Cama king                      45\n",
            "Bicicleta                      45\n",
            "Mochila                        45\n",
            "Cubo mágico 8x8                45\n",
            "Ajedrez de madera              45\n",
            "Mesa de centro                 45\n",
            "TV LED UHD 4K                  45\n",
            "Tablet ABXY                    44\n",
            "Smartwatch                     44\n",
            "Mesa de noche                  44\n",
            "Olla de presión                44\n",
            "Auriculares con micrófono      44\n",
            "Sofá reclinable                44\n",
            "Dashboards con Power BI        43\n",
            "Ciencia de datos con Python    43\n",
            "Balón de baloncesto            42\n",
            "Estufa                         42\n",
            "Dinosaurio Rex                 42\n",
            "Celular ABXY                   41\n",
            "Smart TV                       40\n",
            "Cubertería                     39\n",
            "Asistente virtual              38\n",
            "Auriculares                    37\n",
            "Sillón                         35\n",
            "Mesa de comedor                34\n",
            "Impresora                      34\n",
            "Juego de mesa                  32\n",
            "Name: count, dtype: int64\n"
          ]
        }
      ]
    },
    {
      "cell_type": "code",
      "source": [
        "productos_tienda3 = tienda3['Producto']\n",
        "#print(productos_tienda3)\n",
        "ranking_tienda3 = productos_tienda3.value_counts()\n",
        "print(ranking_tienda3)"
      ],
      "metadata": {
        "colab": {
          "base_uri": "https://localhost:8080/"
        },
        "id": "5yyxvzgnhLds",
        "outputId": "8a695cae-4fb3-4891-b3cd-c44d0232a2d6"
      },
      "execution_count": null,
      "outputs": [
        {
          "output_type": "stream",
          "name": "stdout",
          "text": [
            "Producto\n",
            "Kit de bancas                  57\n",
            "Mesa de comedor                56\n",
            "Cama king                      56\n",
            "Set de ollas                   55\n",
            "Mesa de noche                  55\n",
            "Smart TV                       54\n",
            "Estufa                         53\n",
            "Cuerda para saltar             53\n",
            "Modelado predictivo            53\n",
            "Carrito de control remoto      52\n",
            "Lavavajillas                   52\n",
            "Bicicleta                      52\n",
            "Juego de mesa                  52\n",
            "Pandereta                      51\n",
            "Impresora                      50\n",
            "Refrigerador                   50\n",
            "Balón de baloncesto            50\n",
            "Armario                        49\n",
            "Balón de voleibol              48\n",
            "Tablet ABXY                    48\n",
            "Sillón                         47\n",
            "Guitarra acústica              47\n",
            "Olla de presión                47\n",
            "Ajedrez de madera              47\n",
            "Ciencia de datos con Python    46\n",
            "Iphone 15                      46\n",
            "Dinosaurio Rex                 46\n",
            "Silla de oficina               46\n",
            "Smartwatch                     46\n",
            "Cama box                       46\n",
            "Iniciando en programación      46\n",
            "Secadora de ropa               45\n",
            "Sofá reclinable                45\n",
            "Celular ABXY                   44\n",
            "Cubo mágico 8x8                44\n",
            "Auriculares                    43\n",
            "TV LED UHD 4K                  42\n",
            "Mesa de centro                 42\n",
            "Lavadora de ropa               42\n",
            "Batería                        41\n",
            "Dashboards con Power BI        40\n",
            "Cubertería                     39\n",
            "Muñeca bebé                    39\n",
            "Auriculares con micrófono      39\n",
            "Asistente virtual              39\n",
            "Vaso térmico                   38\n",
            "Guitarra eléctrica             38\n",
            "Set de vasos                   36\n",
            "Mochila                        36\n",
            "Microondas                     36\n",
            "Bloques de construcción        35\n",
            "Name: count, dtype: int64\n"
          ]
        }
      ]
    },
    {
      "cell_type": "code",
      "source": [
        "productos_tienda4 = tienda4['Producto']\n",
        "#print(productos_tienda4)\n",
        "ranking_tienda4 = productos_tienda4.value_counts()\n",
        "print(ranking_tienda4)"
      ],
      "metadata": {
        "colab": {
          "base_uri": "https://localhost:8080/"
        },
        "id": "-CWDFJBGhWCt",
        "outputId": "28c78fc0-93ee-49e3-9e80-772f92c6abe8"
      },
      "execution_count": null,
      "outputs": [
        {
          "output_type": "stream",
          "name": "stdout",
          "text": [
            "Producto\n",
            "Cama box                       62\n",
            "Cubertería                     59\n",
            "Dashboards con Power BI        56\n",
            "Cama king                      56\n",
            "Carrito de control remoto      55\n",
            "Mesa de comedor                55\n",
            "Mesa de noche                  55\n",
            "Smart TV                       54\n",
            "Bloques de construcción        54\n",
            "Pandereta                      52\n",
            "Impresora                      50\n",
            "Modelado predictivo            50\n",
            "Asistente virtual              50\n",
            "Set de ollas                   50\n",
            "Balón de baloncesto            50\n",
            "Vaso térmico                   48\n",
            "Iphone 15                      48\n",
            "Muñeca bebé                    48\n",
            "Batería                        48\n",
            "Balón de voleibol              48\n",
            "Juego de mesa                  48\n",
            "Microondas                     48\n",
            "Estufa                         47\n",
            "Cubo mágico 8x8                47\n",
            "Sofá reclinable                47\n",
            "Dinosaurio Rex                 47\n",
            "Olla de presión                46\n",
            "Set de vasos                   46\n",
            "Tablet ABXY                    45\n",
            "Sillón                         45\n",
            "Bicicleta                      45\n",
            "Mesa de centro                 44\n",
            "Auriculares                    44\n",
            "Lavavajillas                   43\n",
            "Cuerda para saltar             43\n",
            "Iniciando en programación      43\n",
            "Mochila                        43\n",
            "Auriculares con micrófono      42\n",
            "Kit de bancas                  42\n",
            "TV LED UHD 4K                  40\n",
            "Secadora de ropa               40\n",
            "Silla de oficina               40\n",
            "Celular ABXY                   39\n",
            "Ajedrez de madera              39\n",
            "Smartwatch                     39\n",
            "Lavadora de ropa               38\n",
            "Refrigerador                   38\n",
            "Ciencia de datos con Python    38\n",
            "Guitarra acústica              37\n",
            "Armario                        34\n",
            "Guitarra eléctrica             33\n",
            "Name: count, dtype: int64\n"
          ]
        }
      ]
    },
    {
      "cell_type": "markdown",
      "source": [
        "# 5. Envío promedio por tienda"
      ],
      "metadata": {
        "id": "Fl0cGi3bZKqU"
      }
    },
    {
      "cell_type": "code",
      "source": [
        "envios_tienda1 = tienda['Costo de envío']\n",
        "#print(envios_tienda1)\n",
        "promedio_costo_envio_tienda1 = round(sum(envios_tienda1) / len(envios_tienda1),2)\n",
        "#print(promedio_costo_envio_tienda1)\n",
        "\n",
        "envios_tienda2 = tienda2['Costo de envío']\n",
        "promedio_costo_envio_tienda2 = round(sum(envios_tienda2) / len(envios_tienda2),2)\n",
        "\n",
        "envios_tienda3 = tienda3['Costo de envío']\n",
        "promedio_costo_envio_tienda3 = round(sum(envios_tienda3) / len(envios_tienda3),2)\n",
        "\n",
        "envios_tienda4 = tienda4['Costo de envío']\n",
        "promedio_costo_envio_tienda4 = round(sum(envios_tienda4) / len(envios_tienda4),2)"
      ],
      "metadata": {
        "id": "S2JeaCykZNy9"
      },
      "execution_count": null,
      "outputs": []
    },
    {
      "cell_type": "code",
      "source": [
        "print(f'\\tEl costo de envio promedio es: ${promedio_costo_envio_tienda1}, para la tienda 1.\\n\\tEl costo de envio promedio es: ${promedio_costo_envio_tienda2}, para la tienda 2.\\n\\tEl costo de envio promedio es: ${promedio_costo_envio_tienda3}, para la tienda 3.\\n\\tEl costo de envio promedio es: ${promedio_costo_envio_tienda4}, para la tienda 4.')"
      ],
      "metadata": {
        "id": "0tSdCie9ZQlt",
        "colab": {
          "base_uri": "https://localhost:8080/"
        },
        "outputId": "8b273ce1-0ee6-4958-9b1e-76d590ce298f"
      },
      "execution_count": null,
      "outputs": [
        {
          "output_type": "stream",
          "name": "stdout",
          "text": [
            "\tEl costo de envio promedio es: $26018.61, para la tienda 1.\n",
            "\tEl costo de envio promedio es: $25216.24, para la tienda 2.\n",
            "\tEl costo de envio promedio es: $24805.68, para la tienda 3.\n",
            "\tEl costo de envio promedio es: $23459.46, para la tienda 4.\n"
          ]
        }
      ]
    },
    {
      "cell_type": "markdown",
      "source": [
        "#Gráficos\n"
      ],
      "metadata": {
        "id": "6s2eMQ4LmqUa"
      }
    },
    {
      "cell_type": "markdown",
      "source": [
        "Porcentaje de facturación"
      ],
      "metadata": {
        "id": "N5koiPmBm9WQ"
      }
    },
    {
      "cell_type": "code",
      "source": [
        "import matplotlib.pyplot as plt\n"
      ],
      "metadata": {
        "id": "2WT9evCjpFgY"
      },
      "execution_count": null,
      "outputs": []
    },
    {
      "cell_type": "code",
      "source": [
        "suma_total = suma_precios_tienda1 + suma_precios_tienda2 + suma_precios_tienda3 + suma_precios_tienda4\n",
        "\n",
        "porcentaje_tienda1 = suma_precios_tienda1 / suma_total\n",
        "\n",
        "porcentaje_tienda2 = suma_precios_tienda2 / suma_total\n",
        "\n",
        "porcentaje_tienda3 = suma_precios_tienda3 / suma_total\n",
        "\n",
        "porcentaje_tienda4 = suma_precios_tienda4 / suma_total\n",
        "\n"
      ],
      "metadata": {
        "id": "0aySb5YhnGdZ"
      },
      "execution_count": null,
      "outputs": []
    },
    {
      "cell_type": "code",
      "source": [
        "etiquetas = ['Tienda 1','Tienda 2','Tienda 3', 'tienda 4']\n",
        "\n",
        "porcentajes = [porcentaje_tienda1, porcentaje_tienda2, porcentaje_tienda3, porcentaje_tienda4]\n",
        "\n",
        "plt.pie(porcentajes, labels=etiquetas, autopct='%1.1f%%')\n",
        "plt.title('Porcentaje de facturacion')\n",
        "plt.show()"
      ],
      "metadata": {
        "colab": {
          "base_uri": "https://localhost:8080/",
          "height": 428
        },
        "id": "U_1of-QFo_d0",
        "outputId": "46f9360b-3e8e-49e3-b60b-795e354ec503"
      },
      "execution_count": null,
      "outputs": [
        {
          "output_type": "display_data",
          "data": {
            "text/plain": [
              "<Figure size 640x480 with 1 Axes>"
            ],
            "image/png": "[encoded data removed]"
          },
          "metadata": {}
        }
      ]
    },
    {
      "cell_type": "markdown",
      "source": [
        "Costos de envio"
      ],
      "metadata": {
        "id": "5emb0sWRrKSM"
      }
    },
    {
      "cell_type": "code",
      "source": [
        "categorias = ['Tienda 1', 'Tienda 2', 'Tienda 3','Tienda 4']\n",
        "\n",
        "costo_de_envio = [promedio_costo_envio_tienda1, promedio_costo_envio_tienda2, promedio_costo_envio_tienda3, promedio_costo_envio_tienda4]\n",
        "\n",
        "plt.bar(categorias, costo_de_envio)\n",
        "\n",
        "plt.title('Costos de envio')\n",
        "\n",
        "plt.show()"
      ],
      "metadata": {
        "colab": {
          "base_uri": "https://localhost:8080/",
          "height": 452
        },
        "id": "4hrHF9prrRl8",
        "outputId": "48cc0c97-a166-4d4e-dfb7-1a7b5d549023"
      },
      "execution_count": null,
      "outputs": [
        {
          "output_type": "display_data",
          "data": {
            "text/plain": [
              "<Figure size 640x480 with 1 Axes>"
            ],
            "image/png": "[encoded data removed]"
          },
          "metadata": {}
        }
      ]
    },
    {
      "cell_type": "markdown",
      "source": [
        "Ranking de ventas por tienda"
      ],
      "metadata": {
        "id": "B3jO9VSUs_0F"
      }
    },
    {
      "cell_type": "code",
      "source": [
        "ranking_tienda1.head(5).plot(kind='bar')\n",
        "\n",
        "plt.title('Mas vendidos de la tienda 1')\n",
        "plt.xlabel('Producto')\n",
        "plt.ylabel('Cantidad vendida')\n",
        "plt.xticks(rotation=45)\n",
        "\n",
        "plt.show()"
      ],
      "metadata": {
        "colab": {
          "base_uri": "https://localhost:8080/",
          "height": 554
        },
        "id": "lrL_guVRtKiS",
        "outputId": "b79e124f-a64f-45c4-f30b-77423ae51c3f"
      },
      "execution_count": null,
      "outputs": [
        {
          "output_type": "display_data",
          "data": {
            "text/plain": [
              "<Figure size 640x480 with 1 Axes>"
            ],
            "image/png": "[encoded data removed]"
          },
          "metadata": {}
        }
      ]
    },
    {
      "cell_type": "code",
      "source": [
        "ranking_tienda2.head(5).plot(kind='bar')\n",
        "\n",
        "plt.title('Mas vendidos de la tienda 2')\n",
        "plt.xlabel('Producto')\n",
        "plt.ylabel('Cantidad vendida')\n",
        "plt.xticks(rotation=45)\n",
        "\n",
        "plt.show()"
      ],
      "metadata": {
        "colab": {
          "base_uri": "https://localhost:8080/",
          "height": 599
        },
        "id": "yJ34Ot-0vkXx",
        "outputId": "0edfaf6c-5ae4-4375-c032-928d8fabb329"
      },
      "execution_count": null,
      "outputs": [
        {
          "output_type": "display_data",
          "data": {
            "text/plain": [
              "<Figure size 640x480 with 1 Axes>"
            ],
            "image/png": "[encoded data removed]"
          },
          "metadata": {}
        }
      ]
    },
    {
      "cell_type": "code",
      "source": [
        "ranking_tienda3.head(5).plot(kind='bar')\n",
        "\n",
        "plt.title('Mas vendidos de la tienda 3')\n",
        "plt.xlabel('Producto')\n",
        "plt.ylabel('Cantidad vendida')\n",
        "plt.xticks(rotation=45)\n",
        "\n",
        "plt.show()"
      ],
      "metadata": {
        "colab": {
          "base_uri": "https://localhost:8080/",
          "height": 555
        },
        "id": "nktJL5lovqd5",
        "outputId": "7bfcf2ec-5038-4aa8-ec05-22237a7ed3f9"
      },
      "execution_count": null,
      "outputs": [
        {
          "output_type": "display_data",
          "data": {
            "text/plain": [
              "<Figure size 640x480 with 1 Axes>"
            ],
            "image/png": "[encoded data removed]"
          },
          "metadata": {}
        }
      ]
    },
    {
      "cell_type": "code",
      "source": [
        "ranking_tienda4.head(5).plot(kind='bar')\n",
        "\n",
        "plt.title('Mas vendidos de la tienda 4')\n",
        "plt.xlabel('Producto')\n",
        "plt.ylabel('Cantidad vendida')\n",
        "plt.xticks(rotation=45)\n",
        "\n",
        "plt.show()"
      ],
      "metadata": {
        "colab": {
          "base_uri": "https://localhost:8080/",
          "height": 592
        },
        "id": "wW1ejD0Avx9t",
        "outputId": "dd4ec59d-8746-4f72-b1c2-436f4bafe2f9"
      },
      "execution_count": null,
      "outputs": [
        {
          "output_type": "display_data",
          "data": {
            "text/plain": [
              "<Figure size 640x480 with 1 Axes>"
            ],
            "image/png": "[encoded data removed]"
          },
          "metadata": {}
        }
      ]
    },
    {
      "cell_type": "markdown",
      "source": [
        "#Informe final"
      ],
      "metadata": {
        "id": "5hQEzKXlyi4E"
      }
    },
    {
      "cell_type": "markdown",
      "source": [
        "Este análisis tiene como objetivo principal examinar el desempeño de las cuatro tiendas de Don Juan. Al revisar los datos clave de cada una, usaré esta información para recomendar a Don Juan cuál de sus tiendas debería vender, basándome en un enfoque simple y directo.\n",
        "\n",
        "En cuanto a los ingresos. No hay una diferencia marcada en ventas, estas se reparten practicamente en 4 partes iguales. Dicho esto, la tienda que tiene menor particiacion en los ingresos es la 4.\n",
        "\n",
        "Las categorias de productos mas y menos vendidos son las mismas para cada tienda.\n",
        "\n",
        "Las calificaciones promedio no son tan distintas pero la tienda con promedio mas bajo es la 1.\n",
        "\n",
        "Los productos mas y menos vendidos son distintos para cada tienda.\n",
        "\n",
        "El coste promedio de envio es mas alto para la tienda 1.\n",
        "\n",
        "Teniendo en cuenta todo los datos enumerados, mi recomendacion para Don Juan es vender la tienda 1.\n",
        "\n"
      ],
      "metadata": {
        "id": "P0K2KEInypQg"
      }
    }
  ]
}